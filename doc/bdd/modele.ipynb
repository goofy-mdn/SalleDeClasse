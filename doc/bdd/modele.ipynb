{
 "cells": [
  {
   "cell_type": "code",
   "execution_count": 1,
   "metadata": {},
   "outputs": [],
   "source": [
    "%reload_ext mocodo_magic"
   ]
  },
  {
   "cell_type": "code",
   "execution_count": 58,
   "metadata": {},
   "outputs": [
    {
     "data": {
      "image/svg+xml": [
       "<svg xmlns=\"http://www.w3.org/2000/svg\" xmlns:link=\"http://www.w3.org/1999/xlink\" width=\"604\" height=\"112\" view_box=\"0 0 604 112\">\\n\\n<desc>Généré par Mocodo 2.3.7 le Sat, 04 Jul 2020 10:56:56</desc>\n",
       "\n",
       "<rect id=\"frame\" x=\"0\" y=\"0\" width=\"604\" height=\"112\" fill=\"#f5f5f5\" stroke=\"none\" stroke-width=\"0\"/>\n",
       "\n",
       "<!-- Association sitsAt -->\n",
       "<line x1=\"60\" y1=\"56\" x2=\"176\" y2=\"56\" stroke=\"#bf812d\" stroke-width=\"1\"/>\n",
       "<text x=\"116\" y=\"72.0\" fill=\"#01665e\" font-family=\"Futura\" font-size=\"11\">0,N</text>\n",
       "<line x1=\"280\" y1=\"56\" x2=\"176\" y2=\"56\" stroke=\"#bf812d\" stroke-width=\"1\"/>\n",
       "<text x=\"218\" y=\"72.0\" fill=\"#01665e\" font-family=\"Futura\" font-size=\"11\">1,1</text>\n",
       "<g id=\"association-sitsAt\">\n",
       "\t<path d=\"M 198 27 a 14 14 90 0 1 14 14 V 55 h -72 V 41 a 14 14 90 0 1 14 -14\" fill=\"#dfc27d\" stroke=\"#dfc27d\" stroke-width=\"0\"/>\n",
       "\t<path d=\"M 212 55.0 v 16 a 14 14 90 0 1 -14 14 H 154 a 14 14 90 0 1 -14 -14 V 55.0 H 72\" fill=\"#f6e8c3\" stroke=\"#f6e8c3\" stroke-width=\"0\"/>\n",
       "\t<rect x=\"140\" y=\"27\" width=\"72\" height=\"58\" fill=\"none\" rx=\"14\" stroke=\"#bf812d\" stroke-width=\"1.5\"/>\n",
       "\t<line x1=\"140\" y1=\"55\" x2=\"212\" y2=\"55\" stroke=\"#bf812d\" stroke-width=\"1.5\"/>\n",
       "\t<text x=\"147\" y=\"48.3\" fill=\"#000000\" font-family=\"Copperplate\" font-size=\"18\">sitsAt</text>\n",
       "</g>\n",
       "\n",
       "<!-- Association belongs to -->\n",
       "<line x1=\"544\" y1=\"56\" x2=\"406\" y2=\"56\" stroke=\"#bf812d\" stroke-width=\"1\"/>\n",
       "<text x=\"469\" y=\"72.0\" fill=\"#01665e\" font-family=\"Futura\" font-size=\"11\">1,N</text>\n",
       "<line x1=\"280\" y1=\"56\" x2=\"406\" y2=\"56\" stroke=\"#bf812d\" stroke-width=\"1\"/>\n",
       "<text x=\"324\" y=\"72.0\" fill=\"#01665e\" font-family=\"Futura\" font-size=\"11\">1,1</text>\n",
       "<g id=\"association-belongs to\">\n",
       "\t<path d=\"M 450 27 a 14 14 90 0 1 14 14 V 55 h -116 V 41 a 14 14 90 0 1 14 -14\" fill=\"#dfc27d\" stroke=\"#dfc27d\" stroke-width=\"0\"/>\n",
       "\t<path d=\"M 464 55.0 v 16 a 14 14 90 0 1 -14 14 H 362 a 14 14 90 0 1 -14 -14 V 55.0 H 116\" fill=\"#f6e8c3\" stroke=\"#f6e8c3\" stroke-width=\"0\"/>\n",
       "\t<rect x=\"348\" y=\"27\" width=\"116\" height=\"58\" fill=\"none\" rx=\"14\" stroke=\"#bf812d\" stroke-width=\"1.5\"/>\n",
       "\t<line x1=\"348\" y1=\"55\" x2=\"464\" y2=\"55\" stroke=\"#bf812d\" stroke-width=\"1.5\"/>\n",
       "\t<text x=\"355\" y=\"48.3\" fill=\"#000000\" font-family=\"Copperplate\" font-size=\"18\">belongs to</text>\n",
       "</g>\n",
       "\n",
       "<!-- Entity Students -->\n",
       "<g id=\"entity-Students\">\n",
       "\t<g id=\"frame-Students\">\n",
       "\t\t<rect x=\"9\" y=\"9\" width=\"102\" height=\"30\" fill=\"#80cdc1\" stroke=\"#80cdc1\" stroke-width=\"0\"/>\n",
       "\t\t<rect x=\"9\" y=\"39.0\" width=\"102\" height=\"64\" fill=\"#c7eae5\" stroke=\"#c7eae5\" stroke-width=\"0\"/>\n",
       "\t\t<rect x=\"9\" y=\"9\" width=\"102\" height=\"94\" fill=\"none\" stroke=\"#35978f\" stroke-width=\"1.5\"/>\n",
       "\t\t<line x1=\"9\" y1=\"39\" x2=\"111\" y2=\"39\" stroke=\"#35978f\" stroke-width=\"1.5\"/>\n",
       "\t</g>\n",
       "\t<text x=\"17\" y=\"30.3\" fill=\"#000000\" font-family=\"Copperplate\" font-size=\"18\">Students</text>\n",
       "\t<text x=\"17\" y=\"56.1\" fill=\"#000000\" font-family=\"Gill Sans\" font-size=\"15\">IdStudent</text>\n",
       "\t<line x1=\"17\" y1=\"59\" x2=\"77\" y2=\"59\" stroke=\"#000000\" stroke-width=\"1\"/>\n",
       "\t<text x=\"17\" y=\"73.1\" fill=\"#000000\" font-family=\"Gill Sans\" font-size=\"15\">StdFirstname</text>\n",
       "\t<text x=\"17\" y=\"90.0\" fill=\"#000000\" font-family=\"Gill Sans\" font-size=\"15\">StdLastname</text>\n",
       "</g>\n",
       "\n",
       "<!-- Entity Desks -->\n",
       "<g id=\"entity-Desks\">\n",
       "\t<g id=\"frame-Desks\">\n",
       "\t\t<rect x=\"241\" y=\"9\" width=\"78\" height=\"30\" fill=\"#80cdc1\" stroke=\"#80cdc1\" stroke-width=\"0\"/>\n",
       "\t\t<rect x=\"241\" y=\"39.0\" width=\"78\" height=\"64\" fill=\"#c7eae5\" stroke=\"#c7eae5\" stroke-width=\"0\"/>\n",
       "\t\t<rect x=\"241\" y=\"9\" width=\"78\" height=\"94\" fill=\"none\" stroke=\"#35978f\" stroke-width=\"1.5\"/>\n",
       "\t\t<line x1=\"241\" y1=\"39\" x2=\"319\" y2=\"39\" stroke=\"#35978f\" stroke-width=\"1.5\"/>\n",
       "\t</g>\n",
       "\t<text x=\"253\" y=\"30.3\" fill=\"#000000\" font-family=\"Copperplate\" font-size=\"18\">Desks</text>\n",
       "\t<text x=\"249\" y=\"56.1\" fill=\"#000000\" font-family=\"Gill Sans\" font-size=\"15\">IdDesk</text>\n",
       "\t<line x1=\"249\" y1=\"59\" x2=\"294\" y2=\"59\" stroke=\"#000000\" stroke-width=\"1\"/>\n",
       "\t<text x=\"249\" y=\"73.1\" fill=\"#000000\" font-family=\"Gill Sans\" font-size=\"15\">DeskRow</text>\n",
       "\t<text x=\"249\" y=\"90.0\" fill=\"#000000\" font-family=\"Gill Sans\" font-size=\"15\">DeskCol</text>\n",
       "</g>\n",
       "\n",
       "<!-- Entity Courses -->\n",
       "<g id=\"entity-Courses\">\n",
       "\t<g id=\"frame-Courses\">\n",
       "\t\t<rect x=\"493\" y=\"18\" width=\"102\" height=\"30\" fill=\"#80cdc1\" stroke=\"#80cdc1\" stroke-width=\"0\"/>\n",
       "\t\t<rect x=\"493\" y=\"48.0\" width=\"102\" height=\"46\" fill=\"#c7eae5\" stroke=\"#c7eae5\" stroke-width=\"0\"/>\n",
       "\t\t<rect x=\"493\" y=\"18\" width=\"102\" height=\"76\" fill=\"none\" stroke=\"#35978f\" stroke-width=\"1.5\"/>\n",
       "\t\t<line x1=\"493\" y1=\"48\" x2=\"595\" y2=\"48\" stroke=\"#35978f\" stroke-width=\"1.5\"/>\n",
       "\t</g>\n",
       "\t<text x=\"505\" y=\"39.3\" fill=\"#000000\" font-family=\"Copperplate\" font-size=\"18\">Courses</text>\n",
       "\t<text x=\"501\" y=\"65.1\" fill=\"#000000\" font-family=\"Gill Sans\" font-size=\"15\">IdCourse</text>\n",
       "\t<line x1=\"501\" y1=\"68\" x2=\"560\" y2=\"68\" stroke=\"#000000\" stroke-width=\"1\"/>\n",
       "\t<text x=\"501\" y=\"82.1\" fill=\"#000000\" font-family=\"Gill Sans\" font-size=\"15\">CourseName</text>\n",
       "</g>\n",
       "</svg>"
      ],
      "text/plain": [
       "<IPython.core.display.SVG object>"
      ]
     },
     "metadata": {},
     "output_type": "display_data"
    },
    {
     "data": {
      "text/html": [
       "<html>\n",
       "<head>\n",
       "<meta charset='utf-8'>\n",
       "<style>\n",
       "  #mld .relation { font-variant: small-caps; font-weight: bold }\n",
       "  #mld .primary { text-decoration: underline }\n",
       "  #mld .foreign { font-style: oblique }\n",
       "  #mld .normal { }\n",
       "</style>\n",
       "</head>\n",
       "<body>\n",
       "<div id='mld'>\n",
       "<div>\n",
       "  <span class='relation'>Students</span> (\n",
       "    <span class='primary'>IdStudent</span>,\n",
       "    <span class='normal'>StdFirstname</span>,\n",
       "    <span class='normal'>StdLastname</span>\n",
       "  )\n",
       "</div>\n",
       "<div>\n",
       "  <span class='relation'>Desks</span> (\n",
       "    <span class='primary'>IdDesk</span>,\n",
       "    <span class='normal'>DeskRow</span>,\n",
       "    <span class='normal'>DeskCol</span>,\n",
       "    <span class='foreign'>IdStudent</span>,\n",
       "    <span class='foreign'>IdCourse</span>\n",
       "  )\n",
       "</div>\n",
       "<div>\n",
       "  <span class='relation'>Courses</span> (\n",
       "    <span class='primary'>IdCourse</span>,\n",
       "    <span class='normal'>CourseName</span>\n",
       "  )\n",
       "</div>\n",
       "</div>\n",
       "</body>\n",
       "</html>"
      ],
      "text/plain": [
       "<IPython.core.display.HTML object>"
      ]
     },
     "metadata": {},
     "output_type": "display_data"
    }
   ],
   "source": [
    "%%mocodo --mld --colors brewer+1 --shapes copperplate --relations diagram markdown_data_dict\n",
    "\n",
    "Students: IdStudent, StdFirstname, StdLastname\n",
    "sitsAt, 0N Students, 11 Desks\n",
    "Desks: IdDesk, DeskRow, DeskCol\n",
    "belongs to, 1N Courses, 11 Desks\n",
    "Courses: IdCourse, CourseName"
   ]
  },
  {
   "cell_type": "code",
   "execution_count": 59,
   "metadata": {},
   "outputs": [
    {
     "data": {
      "image/svg+xml": [
       "<svg xmlns=\"http://www.w3.org/2000/svg\" xmlns:link=\"http://www.w3.org/1999/xlink\" width=\"520\" height=\"142\" view_box=\"0 0 520 142\">\\n\\n<desc>Généré par Mocodo 2.3.7 le Sat, 04 Jul 2020 10:57:44</desc>\n",
       "\n",
       "<rect id=\"frame\" x=\"0\" y=\"0\" width=\"520\" height=\"142\" fill=\"#f5f5f5\" stroke=\"none\" stroke-width=\"0\"/>\n",
       "\n",
       "<!-- Entity Students -->\n",
       "<g id=\"entity-Students\">\n",
       "\t<g id=\"frame-Students\">\n",
       "\t\t<rect x=\"42\" y=\"27\" width=\"112\" height=\"26\" fill=\"#80cdc1\" stroke=\"#80cdc1\" stroke-width=\"0\"/>\n",
       "\t\t<rect x=\"42\" y=\"53.0\" width=\"112\" height=\"62\" fill=\"#c7eae5\" stroke=\"#c7eae5\" stroke-width=\"0\"/>\n",
       "\t\t<rect x=\"42\" y=\"27\" width=\"112\" height=\"88\" fill=\"none\" stroke=\"#35978f\" stroke-width=\"1.5\"/>\n",
       "\t\t<line x1=\"42\" y1=\"53\" x2=\"154\" y2=\"53\" stroke=\"#35978f\" stroke-width=\"1\"/>\n",
       "\t</g>\n",
       "\t<text x=\"64\" y=\"45.6\" fill=\"#000000\" font-family=\"Courier New\" font-size=\"14\">Students</text>\n",
       "\t<text x=\"47\" y=\"71.6\" fill=\"#000000\" font-family=\"Courier New\" font-size=\"14\">IdStudent</text>\n",
       "\t<line x1=\"47\" y1=\"74.0\" x2=\"124\" y2=\"74.0\" stroke=\"#000000\" stroke-width=\"1\"/>\n",
       "\t<text x=\"47\" y=\"89.6\" fill=\"#000000\" font-family=\"Courier New\" font-size=\"14\">StdFirstname</text>\n",
       "\t<text x=\"47\" y=\"107.6\" fill=\"#000000\" font-family=\"Courier New\" font-size=\"14\">StdLastname</text>\n",
       "</g>\n",
       "\n",
       "<!-- Entity Desks -->\n",
       "<g id=\"entity-Desks\">\n",
       "\t<g id=\"frame-Desks\">\n",
       "\t\t<rect x=\"220\" y=\"9\" width=\"96\" height=\"26\" fill=\"#80cdc1\" stroke=\"#80cdc1\" stroke-width=\"0\"/>\n",
       "\t\t<rect x=\"220\" y=\"35.0\" width=\"96\" height=\"98\" fill=\"#c7eae5\" stroke=\"#c7eae5\" stroke-width=\"0\"/>\n",
       "\t\t<rect x=\"220\" y=\"9\" width=\"96\" height=\"124\" fill=\"none\" stroke=\"#35978f\" stroke-width=\"1.5\"/>\n",
       "\t\t<line x1=\"220\" y1=\"35\" x2=\"316\" y2=\"35\" stroke=\"#35978f\" stroke-width=\"1\"/>\n",
       "\t</g>\n",
       "\t<text x=\"246\" y=\"27.6\" fill=\"#000000\" font-family=\"Courier New\" font-size=\"14\">Desks</text>\n",
       "\t<text x=\"225\" y=\"53.6\" fill=\"#000000\" font-family=\"Courier New\" font-size=\"14\">IdDesk</text>\n",
       "\t<line x1=\"225\" y1=\"56.0\" x2=\"277\" y2=\"56.0\" stroke=\"#000000\" stroke-width=\"1\"/>\n",
       "\t<text x=\"225\" y=\"71.6\" fill=\"#000000\" font-family=\"Courier New\" font-size=\"14\">DeskRow</text>\n",
       "\t<text x=\"225\" y=\"89.6\" fill=\"#000000\" font-family=\"Courier New\" font-size=\"14\">DeskCol</text>\n",
       "\t<text x=\"225\" y=\"107.6\" fill=\"#000000\" font-family=\"Courier New\" font-size=\"14\">#IdStudent</text>\n",
       "\t<text x=\"225\" y=\"125.6\" fill=\"#000000\" font-family=\"Courier New\" font-size=\"14\">#IdCourse</text>\n",
       "</g>\n",
       "\n",
       "<!-- Entity Courses -->\n",
       "<g id=\"entity-Courses\">\n",
       "\t<g id=\"frame-Courses\">\n",
       "\t\t<rect x=\"382\" y=\"36\" width=\"96\" height=\"26\" fill=\"#80cdc1\" stroke=\"#80cdc1\" stroke-width=\"0\"/>\n",
       "\t\t<rect x=\"382\" y=\"62.0\" width=\"96\" height=\"44\" fill=\"#c7eae5\" stroke=\"#c7eae5\" stroke-width=\"0\"/>\n",
       "\t\t<rect x=\"382\" y=\"36\" width=\"96\" height=\"70\" fill=\"none\" stroke=\"#35978f\" stroke-width=\"1.5\"/>\n",
       "\t\t<line x1=\"382\" y1=\"62\" x2=\"478\" y2=\"62\" stroke=\"#35978f\" stroke-width=\"1\"/>\n",
       "\t</g>\n",
       "\t<text x=\"400\" y=\"54.6\" fill=\"#000000\" font-family=\"Courier New\" font-size=\"14\">Courses</text>\n",
       "\t<text x=\"387\" y=\"80.6\" fill=\"#000000\" font-family=\"Courier New\" font-size=\"14\">IdCourse</text>\n",
       "\t<line x1=\"387\" y1=\"83.0\" x2=\"455\" y2=\"83.0\" stroke=\"#000000\" stroke-width=\"1\"/>\n",
       "\t<text x=\"387\" y=\"98.6\" fill=\"#000000\" font-family=\"Courier New\" font-size=\"14\">CourseName</text>\n",
       "</g>\n",
       "<path d=\"M220 103.0 C 187.0 85.0 198.0 67.0 154 67.0\" fill=\"none\" stroke=\"#bf812d\" stroke-width=\"1\"/>\n",
       "<path d=\"M 154 67.0 L 166.0 61.0 L 162.0 67.0 L 166.0 73.0 Z\" fill=\"#bf812d\" stroke-width=\"0\"/>\n",
       "<circle cx=\"220\" cy=\"103.0\" r=\"1.5\" stroke=\"#bf812d\" stroke-width=\"1.5\" fill=\"#bf812d\"/>\n",
       "<path d=\"M316 121.0 C 349.0 98.5 338.0 76.0 382 76.0\" fill=\"none\" stroke=\"#bf812d\" stroke-width=\"1\"/>\n",
       "<path d=\"M 382 76.0 L 370.0 82.0 L 374.0 76.0 L 370.0 70.0 Z\" fill=\"#bf812d\" stroke-width=\"0\"/>\n",
       "<circle cx=\"316\" cy=\"121.0\" r=\"1.5\" stroke=\"#bf812d\" stroke-width=\"1.5\" fill=\"#bf812d\"/>\n",
       "</svg>"
      ],
      "text/plain": [
       "<IPython.core.display.SVG object>"
      ]
     },
     "metadata": {},
     "output_type": "display_data"
    }
   ],
   "source": [
    "%mocodo --input mocodo_notebook/sandbox.mld --colors brewer+1"
   ]
  },
  {
   "cell_type": "code",
   "execution_count": null,
   "metadata": {},
   "outputs": [],
   "source": []
  }
 ],
 "metadata": {
  "kernelspec": {
   "display_name": "Python 3",
   "language": "python",
   "name": "python3"
  },
  "language_info": {
   "codemirror_mode": {
    "name": "ipython",
    "version": 3
   },
   "file_extension": ".py",
   "mimetype": "text/x-python",
   "name": "python",
   "nbconvert_exporter": "python",
   "pygments_lexer": "ipython3",
   "version": "3.8.2"
  }
 },
 "nbformat": 4,
 "nbformat_minor": 4
}
