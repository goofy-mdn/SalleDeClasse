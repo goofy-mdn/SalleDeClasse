{
 "cells": [
  {
   "cell_type": "code",
   "execution_count": 1,
   "metadata": {},
   "outputs": [],
   "source": [
    "%reload_ext mocodo_magic"
   ]
  },
  {
   "cell_type": "code",
   "execution_count": 47,
   "metadata": {},
   "outputs": [
    {
     "data": {
      "image/svg+xml": [
       "<svg xmlns=\"http://www.w3.org/2000/svg\" xmlns:link=\"http://www.w3.org/1999/xlink\" width=\"349\" height=\"221\" view_box=\"0 0 349 221\">\\n\\n<desc>Généré par Mocodo 2.3.7 le Sat, 04 Jul 2020 09:29:36</desc>\n",
       "\n",
       "<rect id=\"frame\" x=\"0\" y=\"0\" width=\"349\" height=\"221\" fill=\"#f5f5f5\" stroke=\"none\" stroke-width=\"0\"/>\n",
       "\n",
       "<!-- Association contains -->\n",
       "<line x1=\"60\" y1=\"56\" x2=\"188\" y2=\"56\" stroke=\"#bf812d\" stroke-width=\"1\"/>\n",
       "<text x=\"116\" y=\"72.0\" fill=\"#01665e\" font-family=\"Futura\" font-size=\"11\">1,N</text>\n",
       "<line x1=\"304\" y1=\"56\" x2=\"188\" y2=\"56\" stroke=\"#bf812d\" stroke-width=\"1\"/>\n",
       "<text x=\"246\" y=\"72.0\" fill=\"#01665e\" font-family=\"Futura\" font-size=\"11\">1,1</text>\n",
       "<g id=\"association-contains\">\n",
       "\t<path d=\"M 222 27 a 14 14 90 0 1 14 14 V 55 h -96 V 41 a 14 14 90 0 1 14 -14\" fill=\"#dfc27d\" stroke=\"#dfc27d\" stroke-width=\"0\"/>\n",
       "\t<path d=\"M 236 55.0 v 16 a 14 14 90 0 1 -14 14 H 154 a 14 14 90 0 1 -14 -14 V 55.0 H 96\" fill=\"#f6e8c3\" stroke=\"#f6e8c3\" stroke-width=\"0\"/>\n",
       "\t<rect x=\"140\" y=\"27\" width=\"96\" height=\"58\" fill=\"none\" rx=\"14\" stroke=\"#bf812d\" stroke-width=\"1.5\"/>\n",
       "\t<line x1=\"140\" y1=\"55\" x2=\"236\" y2=\"55\" stroke=\"#bf812d\" stroke-width=\"1.5\"/>\n",
       "\t<text x=\"147\" y=\"48.3\" fill=\"#000000\" font-family=\"Copperplate\" font-size=\"18\">contains</text>\n",
       "</g>\n",
       "\n",
       "<!-- Association sitsAt -->\n",
       "<line x1=\"188\" y1=\"165\" x2=\"304\" y2=\"165\" stroke=\"#bf812d\" stroke-width=\"1\"/>\n",
       "<text x=\"244\" y=\"181.0\" fill=\"#01665e\" font-family=\"Futura\" font-size=\"11\">0,N</text>\n",
       "<line x1=\"304\" y1=\"56\" x2=\"304\" y2=\"165\" stroke=\"#bf812d\" stroke-width=\"1\"/>\n",
       "<text x=\"309.0\" y=\"119\" fill=\"#01665e\" font-family=\"Futura\" font-size=\"11\">1,1</text>\n",
       "<g id=\"association-sitsAt\">\n",
       "\t<path d=\"M 326 136 a 14 14 90 0 1 14 14 V 164 h -72 V 150 a 14 14 90 0 1 14 -14\" fill=\"#dfc27d\" stroke=\"#dfc27d\" stroke-width=\"0\"/>\n",
       "\t<path d=\"M 340 164.0 v 16 a 14 14 90 0 1 -14 14 H 282 a 14 14 90 0 1 -14 -14 V 164.0 H 72\" fill=\"#f6e8c3\" stroke=\"#f6e8c3\" stroke-width=\"0\"/>\n",
       "\t<rect x=\"268\" y=\"136\" width=\"72\" height=\"58\" fill=\"none\" rx=\"14\" stroke=\"#bf812d\" stroke-width=\"1.5\"/>\n",
       "\t<line x1=\"268\" y1=\"164\" x2=\"340\" y2=\"164\" stroke=\"#bf812d\" stroke-width=\"1.5\"/>\n",
       "\t<text x=\"275\" y=\"157.3\" fill=\"#000000\" font-family=\"Copperplate\" font-size=\"18\">sitsAt</text>\n",
       "</g>\n",
       "\n",
       "<!-- Entity Course -->\n",
       "<g id=\"entity-Course\">\n",
       "\t<g id=\"frame-Course\">\n",
       "\t\t<rect x=\"9\" y=\"18\" width=\"102\" height=\"30\" fill=\"#80cdc1\" stroke=\"#80cdc1\" stroke-width=\"0\"/>\n",
       "\t\t<rect x=\"9\" y=\"48.0\" width=\"102\" height=\"46\" fill=\"#c7eae5\" stroke=\"#c7eae5\" stroke-width=\"0\"/>\n",
       "\t\t<rect x=\"9\" y=\"18\" width=\"102\" height=\"76\" fill=\"none\" stroke=\"#35978f\" stroke-width=\"1.5\"/>\n",
       "\t\t<line x1=\"9\" y1=\"48\" x2=\"111\" y2=\"48\" stroke=\"#35978f\" stroke-width=\"1.5\"/>\n",
       "\t</g>\n",
       "\t<text x=\"26\" y=\"39.3\" fill=\"#000000\" font-family=\"Copperplate\" font-size=\"18\">Course</text>\n",
       "\t<text x=\"17\" y=\"65.1\" fill=\"#000000\" font-family=\"Gill Sans\" font-size=\"15\">IdCourse</text>\n",
       "\t<line x1=\"17\" y1=\"68\" x2=\"76\" y2=\"68\" stroke=\"#000000\" stroke-width=\"1\"/>\n",
       "\t<text x=\"17\" y=\"82.1\" fill=\"#000000\" font-family=\"Gill Sans\" font-size=\"15\">CourseName</text>\n",
       "</g>\n",
       "\n",
       "<!-- Entity Desks -->\n",
       "<g id=\"entity-Desks\">\n",
       "\t<g id=\"frame-Desks\">\n",
       "\t\t<rect x=\"269\" y=\"9\" width=\"70\" height=\"30\" fill=\"#80cdc1\" stroke=\"#80cdc1\" stroke-width=\"0\"/>\n",
       "\t\t<rect x=\"269\" y=\"39.0\" width=\"70\" height=\"64\" fill=\"#c7eae5\" stroke=\"#c7eae5\" stroke-width=\"0\"/>\n",
       "\t\t<rect x=\"269\" y=\"9\" width=\"70\" height=\"94\" fill=\"none\" stroke=\"#35978f\" stroke-width=\"1.5\"/>\n",
       "\t\t<line x1=\"269\" y1=\"39\" x2=\"339\" y2=\"39\" stroke=\"#35978f\" stroke-width=\"1.5\"/>\n",
       "\t</g>\n",
       "\t<text x=\"277\" y=\"30.3\" fill=\"#000000\" font-family=\"Copperplate\" font-size=\"18\">Desks</text>\n",
       "\t<text x=\"277\" y=\"56.1\" fill=\"#000000\" font-family=\"Gill Sans\" font-size=\"15\">IdDesk</text>\n",
       "\t<line x1=\"277\" y1=\"59\" x2=\"322\" y2=\"59\" stroke=\"#000000\" stroke-width=\"1\"/>\n",
       "\t<text x=\"277\" y=\"73.1\" fill=\"#000000\" font-family=\"Gill Sans\" font-size=\"15\">CoordX</text>\n",
       "\t<text x=\"277\" y=\"90.0\" fill=\"#000000\" font-family=\"Gill Sans\" font-size=\"15\">CoordY</text>\n",
       "</g>\n",
       "\n",
       "<!-- Entity Students -->\n",
       "<g id=\"entity-Students\">\n",
       "\t<g id=\"frame-Students\">\n",
       "\t\t<rect x=\"137\" y=\"118\" width=\"102\" height=\"30\" fill=\"#80cdc1\" stroke=\"#80cdc1\" stroke-width=\"0\"/>\n",
       "\t\t<rect x=\"137\" y=\"148.0\" width=\"102\" height=\"64\" fill=\"#c7eae5\" stroke=\"#c7eae5\" stroke-width=\"0\"/>\n",
       "\t\t<rect x=\"137\" y=\"118\" width=\"102\" height=\"94\" fill=\"none\" stroke=\"#35978f\" stroke-width=\"1.5\"/>\n",
       "\t\t<line x1=\"137\" y1=\"148\" x2=\"239\" y2=\"148\" stroke=\"#35978f\" stroke-width=\"1.5\"/>\n",
       "\t</g>\n",
       "\t<text x=\"145\" y=\"139.3\" fill=\"#000000\" font-family=\"Copperplate\" font-size=\"18\">Students</text>\n",
       "\t<text x=\"145\" y=\"165.1\" fill=\"#000000\" font-family=\"Gill Sans\" font-size=\"15\">IdStudent</text>\n",
       "\t<line x1=\"145\" y1=\"168\" x2=\"205\" y2=\"168\" stroke=\"#000000\" stroke-width=\"1\"/>\n",
       "\t<text x=\"145\" y=\"182.1\" fill=\"#000000\" font-family=\"Gill Sans\" font-size=\"15\">StdFirstname</text>\n",
       "\t<text x=\"145\" y=\"199.0\" fill=\"#000000\" font-family=\"Gill Sans\" font-size=\"15\">StdLastname</text>\n",
       "</g>\n",
       "</svg>"
      ],
      "text/plain": [
       "<IPython.core.display.SVG object>"
      ]
     },
     "metadata": {},
     "output_type": "display_data"
    },
    {
     "data": {
      "text/html": [
       "<html>\n",
       "<head>\n",
       "<meta charset='utf-8'>\n",
       "<style>\n",
       "  #mld .relation { font-variant: small-caps; font-weight: bold }\n",
       "  #mld .primary { text-decoration: underline }\n",
       "  #mld .foreign { font-style: oblique }\n",
       "  #mld .normal { }\n",
       "</style>\n",
       "</head>\n",
       "<body>\n",
       "<div id='mld'>\n",
       "<div>\n",
       "  <span class='relation'>Course</span> (\n",
       "    <span class='primary'>IdCourse</span>,\n",
       "    <span class='normal'>CourseName</span>\n",
       "  )\n",
       "</div>\n",
       "<div>\n",
       "  <span class='relation'>Desks</span> (\n",
       "    <span class='primary'>IdDesk</span>,\n",
       "    <span class='normal'>CoordX</span>,\n",
       "    <span class='normal'>CoordY</span>,\n",
       "    <span class='foreign'>IdCourse</span>,\n",
       "    <span class='foreign'>IdStudent</span>\n",
       "  )\n",
       "</div>\n",
       "<div>\n",
       "  <span class='relation'>Students</span> (\n",
       "    <span class='primary'>IdStudent</span>,\n",
       "    <span class='normal'>StdFirstname</span>,\n",
       "    <span class='normal'>StdLastname</span>\n",
       "  )\n",
       "</div>\n",
       "</div>\n",
       "</body>\n",
       "</html>"
      ],
      "text/plain": [
       "<IPython.core.display.HTML object>"
      ]
     },
     "metadata": {},
     "output_type": "display_data"
    }
   ],
   "source": [
    "%%mocodo --mld --colors brewer+1 --shapes copperplate --relations diagram markdown_data_dict\n",
    "\n",
    "Course: IdCourse, CourseName\n",
    "contains, 1N Course, 11 Desks\n",
    "Desks: IdDesk, CoordX, CoordY\n",
    "\n",
    ":\n",
    "Students: IdStudent, StdFirstname, StdLastname\n",
    "sitsAt, 0N Students, 11 Desks"
   ]
  },
  {
   "cell_type": "code",
   "execution_count": 48,
   "metadata": {},
   "outputs": [
    {
     "data": {
      "image/svg+xml": [
       "<svg xmlns=\"http://www.w3.org/2000/svg\" xmlns:link=\"http://www.w3.org/1999/xlink\" width=\"520\" height=\"210\" view_box=\"0 0 520 210\">\\n\\n<desc>Généré par Mocodo 2.3.7 le Sat, 04 Jul 2020 09:29:47</desc>\n",
       "\n",
       "<rect id=\"frame\" x=\"0\" y=\"0\" width=\"520\" height=\"210\" fill=\"#f5f5f5\" stroke=\"none\" stroke-width=\"0\"/>\n",
       "\n",
       "<!-- Entity Course -->\n",
       "<g id=\"entity-Course\">\n",
       "\t<g id=\"frame-Course\">\n",
       "\t\t<rect x=\"42\" y=\"36\" width=\"96\" height=\"26\" fill=\"#80cdc1\" stroke=\"#80cdc1\" stroke-width=\"0\"/>\n",
       "\t\t<rect x=\"42\" y=\"62.0\" width=\"96\" height=\"44\" fill=\"#c7eae5\" stroke=\"#c7eae5\" stroke-width=\"0\"/>\n",
       "\t\t<rect x=\"42\" y=\"36\" width=\"96\" height=\"70\" fill=\"none\" stroke=\"#35978f\" stroke-width=\"1.5\"/>\n",
       "\t\t<line x1=\"42\" y1=\"62\" x2=\"138\" y2=\"62\" stroke=\"#35978f\" stroke-width=\"1\"/>\n",
       "\t</g>\n",
       "\t<text x=\"64\" y=\"54.6\" fill=\"#000000\" font-family=\"Courier New\" font-size=\"14\">Course</text>\n",
       "\t<text x=\"47\" y=\"80.6\" fill=\"#000000\" font-family=\"Courier New\" font-size=\"14\">IdCourse</text>\n",
       "\t<line x1=\"47\" y1=\"83.0\" x2=\"115\" y2=\"83.0\" stroke=\"#000000\" stroke-width=\"1\"/>\n",
       "\t<text x=\"47\" y=\"98.6\" fill=\"#000000\" font-family=\"Courier New\" font-size=\"14\">CourseName</text>\n",
       "</g>\n",
       "\n",
       "<!-- Entity Desks -->\n",
       "<g id=\"entity-Desks\">\n",
       "\t<g id=\"frame-Desks\">\n",
       "\t\t<rect x=\"382\" y=\"9\" width=\"96\" height=\"26\" fill=\"#80cdc1\" stroke=\"#80cdc1\" stroke-width=\"0\"/>\n",
       "\t\t<rect x=\"382\" y=\"35.0\" width=\"96\" height=\"98\" fill=\"#c7eae5\" stroke=\"#c7eae5\" stroke-width=\"0\"/>\n",
       "\t\t<rect x=\"382\" y=\"9\" width=\"96\" height=\"124\" fill=\"none\" stroke=\"#35978f\" stroke-width=\"1.5\"/>\n",
       "\t\t<line x1=\"382\" y1=\"35\" x2=\"478\" y2=\"35\" stroke=\"#35978f\" stroke-width=\"1\"/>\n",
       "\t</g>\n",
       "\t<text x=\"408\" y=\"27.6\" fill=\"#000000\" font-family=\"Courier New\" font-size=\"14\">Desks</text>\n",
       "\t<text x=\"387\" y=\"53.6\" fill=\"#000000\" font-family=\"Courier New\" font-size=\"14\">IdDesk</text>\n",
       "\t<line x1=\"387\" y1=\"56.0\" x2=\"439\" y2=\"56.0\" stroke=\"#000000\" stroke-width=\"1\"/>\n",
       "\t<text x=\"387\" y=\"71.6\" fill=\"#000000\" font-family=\"Courier New\" font-size=\"14\">CoordX</text>\n",
       "\t<text x=\"387\" y=\"89.6\" fill=\"#000000\" font-family=\"Courier New\" font-size=\"14\">CoordY</text>\n",
       "\t<text x=\"387\" y=\"107.6\" fill=\"#000000\" font-family=\"Courier New\" font-size=\"14\">#IdCourse</text>\n",
       "\t<text x=\"387\" y=\"125.6\" fill=\"#000000\" font-family=\"Courier New\" font-size=\"14\">#IdStudent</text>\n",
       "</g>\n",
       "\n",
       "<!-- Entity Students -->\n",
       "<g id=\"entity-Students\">\n",
       "\t<g id=\"frame-Students\">\n",
       "\t\t<rect x=\"204\" y=\"113\" width=\"112\" height=\"26\" fill=\"#80cdc1\" stroke=\"#80cdc1\" stroke-width=\"0\"/>\n",
       "\t\t<rect x=\"204\" y=\"139.0\" width=\"112\" height=\"62\" fill=\"#c7eae5\" stroke=\"#c7eae5\" stroke-width=\"0\"/>\n",
       "\t\t<rect x=\"204\" y=\"113\" width=\"112\" height=\"88\" fill=\"none\" stroke=\"#35978f\" stroke-width=\"1.5\"/>\n",
       "\t\t<line x1=\"204\" y1=\"139\" x2=\"316\" y2=\"139\" stroke=\"#35978f\" stroke-width=\"1\"/>\n",
       "\t</g>\n",
       "\t<text x=\"226\" y=\"131.6\" fill=\"#000000\" font-family=\"Courier New\" font-size=\"14\">Students</text>\n",
       "\t<text x=\"209\" y=\"157.6\" fill=\"#000000\" font-family=\"Courier New\" font-size=\"14\">IdStudent</text>\n",
       "\t<line x1=\"209\" y1=\"160.0\" x2=\"286\" y2=\"160.0\" stroke=\"#000000\" stroke-width=\"1\"/>\n",
       "\t<text x=\"209\" y=\"175.6\" fill=\"#000000\" font-family=\"Courier New\" font-size=\"14\">StdFirstname</text>\n",
       "\t<text x=\"209\" y=\"193.6\" fill=\"#000000\" font-family=\"Courier New\" font-size=\"14\">StdLastname</text>\n",
       "</g>\n",
       "<path d=\"M382 103.0 C 260.0 89.5 300.6666666666667 76.0 138 76.0\" fill=\"none\" stroke=\"#bf812d\" stroke-width=\"1\"/>\n",
       "<path d=\"M 138 76.0 L 150.0 70.0 L 146.0 76.0 L 150.0 82.0 Z\" fill=\"#bf812d\" stroke-width=\"0\"/>\n",
       "<circle cx=\"382\" cy=\"103.0\" r=\"1.5\" stroke=\"#bf812d\" stroke-width=\"1.5\" fill=\"#bf812d\"/>\n",
       "<path d=\"M382 121.0 C 349.0 137.0 360.0 153.0 316 153.0\" fill=\"none\" stroke=\"#bf812d\" stroke-width=\"1\"/>\n",
       "<path d=\"M 316 153.0 L 328.0 147.0 L 324.0 153.0 L 328.0 159.0 Z\" fill=\"#bf812d\" stroke-width=\"0\"/>\n",
       "<circle cx=\"382\" cy=\"121.0\" r=\"1.5\" stroke=\"#bf812d\" stroke-width=\"1.5\" fill=\"#bf812d\"/>\n",
       "</svg>"
      ],
      "text/plain": [
       "<IPython.core.display.SVG object>"
      ]
     },
     "metadata": {},
     "output_type": "display_data"
    }
   ],
   "source": [
    "%mocodo --input mocodo_notebook/sandbox.mld --colors brewer+1"
   ]
  },
  {
   "cell_type": "code",
   "execution_count": null,
   "metadata": {},
   "outputs": [],
   "source": []
  }
 ],
 "metadata": {
  "kernelspec": {
   "display_name": "Python 3",
   "language": "python",
   "name": "python3"
  },
  "language_info": {
   "codemirror_mode": {
    "name": "ipython",
    "version": 3
   },
   "file_extension": ".py",
   "mimetype": "text/x-python",
   "name": "python",
   "nbconvert_exporter": "python",
   "pygments_lexer": "ipython3",
   "version": "3.8.2"
  }
 },
 "nbformat": 4,
 "nbformat_minor": 4
}
